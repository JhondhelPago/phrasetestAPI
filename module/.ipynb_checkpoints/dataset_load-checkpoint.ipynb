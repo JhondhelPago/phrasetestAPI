{
 "cells": [
  {
   "cell_type": "code",
   "execution_count": 1,
   "id": "ca4bc997-9064-4bb7-9381-ecc281f0fa36",
   "metadata": {},
   "outputs": [],
   "source": [
    "import numpy as np\n",
    "import pandas as pd"
   ]
  },
  {
   "cell_type": "code",
   "execution_count": 10,
   "id": "ab3fb854-62ed-47c2-b75e-265a6336074e",
   "metadata": {},
   "outputs": [
    {
     "name": "stdout",
     "output_type": "stream",
     "text": [
      "Defaulting to user installation because normal site-packages is not writeable\n",
      "Collecting textstat\n",
      "  Downloading textstat-0.7.4-py3-none-any.whl (105 kB)\n",
      "     ---------------------------------------- 0.0/105.1 kB ? eta -:--:--\n",
      "     -------------------------------------- 105.1/105.1 kB 2.0 MB/s eta 0:00:00\n",
      "Collecting pyphen\n",
      "  Downloading pyphen-0.17.0-py3-none-any.whl (2.1 MB)\n",
      "     ---------------------------------------- 0.0/2.1 MB ? eta -:--:--\n",
      "     --- ------------------------------------ 0.2/2.1 MB 10.9 MB/s eta 0:00:01\n",
      "     --- ------------------------------------ 0.2/2.1 MB 10.9 MB/s eta 0:00:01\n",
      "     ----------- ---------------------------- 0.6/2.1 MB 4.6 MB/s eta 0:00:01\n",
      "     ---------------------- ----------------- 1.2/2.1 MB 7.4 MB/s eta 0:00:01\n",
      "     ---------------------------------------  2.1/2.1 MB 10.1 MB/s eta 0:00:01\n",
      "     ---------------------------------------- 2.1/2.1 MB 9.4 MB/s eta 0:00:00\n",
      "Requirement already satisfied: setuptools in c:\\users\\jhondhelpago\\appdata\\roaming\\python\\python310\\site-packages (from textstat) (72.2.0)\n",
      "Installing collected packages: pyphen, textstat\n",
      "Successfully installed pyphen-0.17.0 textstat-0.7.4\n"
     ]
    },
    {
     "name": "stderr",
     "output_type": "stream",
     "text": [
      "\n",
      "[notice] A new release of pip is available: 23.0.1 -> 24.3.1\n",
      "[notice] To update, run: python.exe -m pip install --upgrade pip\n"
     ]
    }
   ],
   "source": [
    "!pip install textstat"
   ]
  },
  {
   "cell_type": "code",
   "execution_count": 11,
   "id": "8314d67d-c1c7-4204-be5a-5ba7e71f2c30",
   "metadata": {},
   "outputs": [],
   "source": [
    "from features_xtrct import PhraseExtract, PhraseExtract1"
   ]
  },
  {
   "cell_type": "code",
   "execution_count": 3,
   "id": "cd27a609-4a47-4e28-a5d9-7cddf1d45cdd",
   "metadata": {},
   "outputs": [],
   "source": [
    "df = pd.read_csv('PhraseTest_Data.csv')"
   ]
  },
  {
   "cell_type": "code",
   "execution_count": 4,
   "id": "1afc24d6-f30f-492c-be43-c36f7e3e14b0",
   "metadata": {},
   "outputs": [
    {
     "data": {
      "text/html": [
       "<div>\n",
       "<style scoped>\n",
       "    .dataframe tbody tr th:only-of-type {\n",
       "        vertical-align: middle;\n",
       "    }\n",
       "\n",
       "    .dataframe tbody tr th {\n",
       "        vertical-align: top;\n",
       "    }\n",
       "\n",
       "    .dataframe thead th {\n",
       "        text-align: right;\n",
       "    }\n",
       "</style>\n",
       "<table border=\"1\" class=\"dataframe\">\n",
       "  <thead>\n",
       "    <tr style=\"text-align: right;\">\n",
       "      <th></th>\n",
       "      <th>Name</th>\n",
       "      <th>Age</th>\n",
       "      <th>Grade Level</th>\n",
       "      <th>Gender</th>\n",
       "      <th>School</th>\n",
       "      <th>Question 1</th>\n",
       "      <th>Question 2</th>\n",
       "    </tr>\n",
       "  </thead>\n",
       "  <tbody>\n",
       "    <tr>\n",
       "      <th>0</th>\n",
       "      <td>Jazz Trickxia</td>\n",
       "      <td>11</td>\n",
       "      <td>6</td>\n",
       "      <td>F</td>\n",
       "      <td>LDES</td>\n",
       "      <td>I want to be a photographer because i want to ...</td>\n",
       "      <td>The most valuable i learned is always fight Ne...</td>\n",
       "    </tr>\n",
       "    <tr>\n",
       "      <th>1</th>\n",
       "      <td>Xian Gabriel O. Romero</td>\n",
       "      <td>12</td>\n",
       "      <td>6</td>\n",
       "      <td>M</td>\n",
       "      <td>LDES</td>\n",
       "      <td>when i grow up i Want to be a FireFighter. bec...</td>\n",
       "      <td>the most valuable lesson i've learned is never...</td>\n",
       "    </tr>\n",
       "    <tr>\n",
       "      <th>2</th>\n",
       "      <td>Jhermaine Dale M. Ramos</td>\n",
       "      <td>11</td>\n",
       "      <td>6</td>\n",
       "      <td>F</td>\n",
       "      <td>LDES</td>\n",
       "      <td>I want to be a Artist when i grow up . If i co...</td>\n",
       "      <td>I learned About some things in Drawing , Sketc...</td>\n",
       "    </tr>\n",
       "    <tr>\n",
       "      <th>3</th>\n",
       "      <td>Jade Allison Panganiban</td>\n",
       "      <td>11</td>\n",
       "      <td>6</td>\n",
       "      <td>F</td>\n",
       "      <td>LDES</td>\n",
       "      <td>i want to be Medschool because i want to help ...</td>\n",
       "      <td>The Most i learn valuable is never give up and...</td>\n",
       "    </tr>\n",
       "    <tr>\n",
       "      <th>4</th>\n",
       "      <td>BEATRIZE ANN P. SARMIENTO</td>\n",
       "      <td>11</td>\n",
       "      <td>6</td>\n",
       "      <td>F</td>\n",
       "      <td>LDES</td>\n",
       "      <td>I WANT TO BE A DOCTOR WHEN I GROW UP AND IF I ...</td>\n",
       "      <td>NaN</td>\n",
       "    </tr>\n",
       "  </tbody>\n",
       "</table>\n",
       "</div>"
      ],
      "text/plain": [
       "                        Name  Age  Grade Level Gender School  \\\n",
       "0              Jazz Trickxia   11            6      F   LDES   \n",
       "1     Xian Gabriel O. Romero   12            6      M   LDES   \n",
       "2    Jhermaine Dale M. Ramos   11            6      F   LDES   \n",
       "3    Jade Allison Panganiban   11            6     F    LDES   \n",
       "4  BEATRIZE ANN P. SARMIENTO   11            6      F   LDES   \n",
       "\n",
       "                                          Question 1  \\\n",
       "0  I want to be a photographer because i want to ...   \n",
       "1  when i grow up i Want to be a FireFighter. bec...   \n",
       "2  I want to be a Artist when i grow up . If i co...   \n",
       "3  i want to be Medschool because i want to help ...   \n",
       "4  I WANT TO BE A DOCTOR WHEN I GROW UP AND IF I ...   \n",
       "\n",
       "                                          Question 2  \n",
       "0  The most valuable i learned is always fight Ne...  \n",
       "1  the most valuable lesson i've learned is never...  \n",
       "2  I learned About some things in Drawing , Sketc...  \n",
       "3  The Most i learn valuable is never give up and...  \n",
       "4                                                NaN  "
      ]
     },
     "execution_count": 4,
     "metadata": {},
     "output_type": "execute_result"
    }
   ],
   "source": [
    "df"
   ]
  },
  {
   "cell_type": "code",
   "execution_count": 12,
   "id": "5c9b89ad-2d12-4323-8967-066afab4ad1b",
   "metadata": {},
   "outputs": [
    {
     "name": "stdout",
     "output_type": "stream",
     "text": [
      "<class 'pandas.core.frame.DataFrame'>\n",
      "RangeIndex: 5 entries, 0 to 4\n",
      "Data columns (total 7 columns):\n",
      " #   Column       Non-Null Count  Dtype \n",
      "---  ------       --------------  ----- \n",
      " 0   Name         5 non-null      object\n",
      " 1   Age          5 non-null      int64 \n",
      " 2   Grade Level  5 non-null      int64 \n",
      " 3   Gender       5 non-null      object\n",
      " 4   School       5 non-null      object\n",
      " 5   Question 1   5 non-null      object\n",
      " 6   Question 2   4 non-null      object\n",
      "dtypes: int64(2), object(5)\n",
      "memory usage: 408.0+ bytes\n"
     ]
    }
   ],
   "source": [
    "df.info()"
   ]
  },
  {
   "cell_type": "code",
   "execution_count": null,
   "id": "b9b4f639-48b9-40c4-ad7c-82047c8c4616",
   "metadata": {},
   "outputs": [],
   "source": [
    "features_list = list()\n",
    "\n",
    "for index, row in df.itterrows():\n",
    "    print(f\"row:{index}\")\n",
    "    Phrase = PhraseExtract1(question='What do you want to be when you grow up? How will you get there?', text=row['Question 1'])\n",
    "    print(Phrase.FeatureList())\n",
    "    features_list.append(Phrase.FeatureList())\n",
    "    "
   ]
  }
 ],
 "metadata": {
  "kernelspec": {
   "display_name": "Python 3 (ipykernel)",
   "language": "python",
   "name": "python3"
  },
  "language_info": {
   "codemirror_mode": {
    "name": "ipython",
    "version": 3
   },
   "file_extension": ".py",
   "mimetype": "text/x-python",
   "name": "python",
   "nbconvert_exporter": "python",
   "pygments_lexer": "ipython3",
   "version": "3.10.11"
  }
 },
 "nbformat": 4,
 "nbformat_minor": 5
}
